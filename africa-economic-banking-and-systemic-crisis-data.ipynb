{
 "cells": [
  {
   "cell_type": "markdown",
   "id": "a6ebcf86",
   "metadata": {
    "papermill": {
     "duration": 0.005641,
     "end_time": "2024-06-26T20:15:31.516669",
     "exception": false,
     "start_time": "2024-06-26T20:15:31.511028",
     "status": "completed"
    },
    "tags": []
   },
   "source": [
    "# UNDERSTANDING FINANCIAL CRISIS IN AFRICA\n",
    "The purpose of this notebook is to create EDA on African financial situation. I find EDA to be one of the most insteresting forms to understand any domain. I'll be exploring the features given in the dataset and if and whether they help in our understanding of the happenings/warning signs of foreseeing a banking crisis or any financial crisis in African countrys."
   ]
  },
  {
   "cell_type": "markdown",
   "id": "71fcdba6",
   "metadata": {
    "papermill": {
     "duration": 0.004426,
     "end_time": "2024-06-26T20:15:31.526163",
     "exception": false,
     "start_time": "2024-06-26T20:15:31.521737",
     "status": "completed"
    },
    "tags": []
   },
   "source": [
    "## Importing Libraries"
   ]
  },
  {
   "cell_type": "code",
   "execution_count": 1,
   "id": "8635b065",
   "metadata": {
    "execution": {
     "iopub.execute_input": "2024-06-26T20:15:31.538689Z",
     "iopub.status.busy": "2024-06-26T20:15:31.537384Z",
     "iopub.status.idle": "2024-06-26T20:15:34.015720Z",
     "shell.execute_reply": "2024-06-26T20:15:34.014375Z"
    },
    "papermill": {
     "duration": 2.487649,
     "end_time": "2024-06-26T20:15:34.018650",
     "exception": false,
     "start_time": "2024-06-26T20:15:31.531001",
     "status": "completed"
    },
    "tags": []
   },
   "outputs": [],
   "source": [
    "import pandas as pd\n",
    "import numpy as np\n",
    "import seaborn as sns\n",
    "import matplotlib.pyplot as plt\n",
    "\n",
    "#importing the dataset\n",
    "df = pd.read_csv('/kaggle/input/africa-economic-banking-and-systemic-crisis-data/african_crises.csv')"
   ]
  },
  {
   "cell_type": "markdown",
   "id": "b14b2c67",
   "metadata": {
    "papermill": {
     "duration": 0.005209,
     "end_time": "2024-06-26T20:15:34.028687",
     "exception": false,
     "start_time": "2024-06-26T20:15:34.023478",
     "status": "completed"
    },
    "tags": []
   },
   "source": [
    "## Overview and Data Exploration"
   ]
  },
  {
   "cell_type": "code",
   "execution_count": 2,
   "id": "8afededf",
   "metadata": {
    "execution": {
     "iopub.execute_input": "2024-06-26T20:15:34.040901Z",
     "iopub.status.busy": "2024-06-26T20:15:34.040523Z",
     "iopub.status.idle": "2024-06-26T20:15:34.046647Z",
     "shell.execute_reply": "2024-06-26T20:15:34.045417Z"
    },
    "papermill": {
     "duration": 0.016167,
     "end_time": "2024-06-26T20:15:34.049968",
     "exception": false,
     "start_time": "2024-06-26T20:15:34.033801",
     "status": "completed"
    },
    "tags": []
   },
   "outputs": [
    {
     "name": "stdout",
     "output_type": "stream",
     "text": [
      "The shape of the dataset is: {shape}\n"
     ]
    }
   ],
   "source": [
    "shape = df.shape\n",
    "print(\"The shape of the dataset is: {shape}\")"
   ]
  },
  {
   "cell_type": "code",
   "execution_count": 3,
   "id": "531d07e5",
   "metadata": {
    "execution": {
     "iopub.execute_input": "2024-06-26T20:15:34.062628Z",
     "iopub.status.busy": "2024-06-26T20:15:34.062162Z",
     "iopub.status.idle": "2024-06-26T20:15:34.096272Z",
     "shell.execute_reply": "2024-06-26T20:15:34.094972Z"
    },
    "papermill": {
     "duration": 0.043023,
     "end_time": "2024-06-26T20:15:34.098914",
     "exception": false,
     "start_time": "2024-06-26T20:15:34.055891",
     "status": "completed"
    },
    "tags": []
   },
   "outputs": [
    {
     "data": {
      "text/html": [
       "<div>\n",
       "<style scoped>\n",
       "    .dataframe tbody tr th:only-of-type {\n",
       "        vertical-align: middle;\n",
       "    }\n",
       "\n",
       "    .dataframe tbody tr th {\n",
       "        vertical-align: top;\n",
       "    }\n",
       "\n",
       "    .dataframe thead th {\n",
       "        text-align: right;\n",
       "    }\n",
       "</style>\n",
       "<table border=\"1\" class=\"dataframe\">\n",
       "  <thead>\n",
       "    <tr style=\"text-align: right;\">\n",
       "      <th></th>\n",
       "      <th>case</th>\n",
       "      <th>cc3</th>\n",
       "      <th>country</th>\n",
       "      <th>year</th>\n",
       "      <th>systemic_crisis</th>\n",
       "      <th>exch_usd</th>\n",
       "      <th>domestic_debt_in_default</th>\n",
       "      <th>sovereign_external_debt_default</th>\n",
       "      <th>gdp_weighted_default</th>\n",
       "      <th>inflation_annual_cpi</th>\n",
       "      <th>independence</th>\n",
       "      <th>currency_crises</th>\n",
       "      <th>inflation_crises</th>\n",
       "      <th>banking_crisis</th>\n",
       "    </tr>\n",
       "  </thead>\n",
       "  <tbody>\n",
       "    <tr>\n",
       "      <th>0</th>\n",
       "      <td>1</td>\n",
       "      <td>DZA</td>\n",
       "      <td>Algeria</td>\n",
       "      <td>1870</td>\n",
       "      <td>1</td>\n",
       "      <td>0.052264</td>\n",
       "      <td>0</td>\n",
       "      <td>0</td>\n",
       "      <td>0.0</td>\n",
       "      <td>3.441456</td>\n",
       "      <td>0</td>\n",
       "      <td>0</td>\n",
       "      <td>0</td>\n",
       "      <td>crisis</td>\n",
       "    </tr>\n",
       "    <tr>\n",
       "      <th>1</th>\n",
       "      <td>1</td>\n",
       "      <td>DZA</td>\n",
       "      <td>Algeria</td>\n",
       "      <td>1871</td>\n",
       "      <td>0</td>\n",
       "      <td>0.052798</td>\n",
       "      <td>0</td>\n",
       "      <td>0</td>\n",
       "      <td>0.0</td>\n",
       "      <td>14.149140</td>\n",
       "      <td>0</td>\n",
       "      <td>0</td>\n",
       "      <td>0</td>\n",
       "      <td>no_crisis</td>\n",
       "    </tr>\n",
       "    <tr>\n",
       "      <th>2</th>\n",
       "      <td>1</td>\n",
       "      <td>DZA</td>\n",
       "      <td>Algeria</td>\n",
       "      <td>1872</td>\n",
       "      <td>0</td>\n",
       "      <td>0.052274</td>\n",
       "      <td>0</td>\n",
       "      <td>0</td>\n",
       "      <td>0.0</td>\n",
       "      <td>-3.718593</td>\n",
       "      <td>0</td>\n",
       "      <td>0</td>\n",
       "      <td>0</td>\n",
       "      <td>no_crisis</td>\n",
       "    </tr>\n",
       "    <tr>\n",
       "      <th>3</th>\n",
       "      <td>1</td>\n",
       "      <td>DZA</td>\n",
       "      <td>Algeria</td>\n",
       "      <td>1873</td>\n",
       "      <td>0</td>\n",
       "      <td>0.051680</td>\n",
       "      <td>0</td>\n",
       "      <td>0</td>\n",
       "      <td>0.0</td>\n",
       "      <td>11.203897</td>\n",
       "      <td>0</td>\n",
       "      <td>0</td>\n",
       "      <td>0</td>\n",
       "      <td>no_crisis</td>\n",
       "    </tr>\n",
       "    <tr>\n",
       "      <th>4</th>\n",
       "      <td>1</td>\n",
       "      <td>DZA</td>\n",
       "      <td>Algeria</td>\n",
       "      <td>1874</td>\n",
       "      <td>0</td>\n",
       "      <td>0.051308</td>\n",
       "      <td>0</td>\n",
       "      <td>0</td>\n",
       "      <td>0.0</td>\n",
       "      <td>-3.848561</td>\n",
       "      <td>0</td>\n",
       "      <td>0</td>\n",
       "      <td>0</td>\n",
       "      <td>no_crisis</td>\n",
       "    </tr>\n",
       "    <tr>\n",
       "      <th>5</th>\n",
       "      <td>1</td>\n",
       "      <td>DZA</td>\n",
       "      <td>Algeria</td>\n",
       "      <td>1875</td>\n",
       "      <td>0</td>\n",
       "      <td>0.051546</td>\n",
       "      <td>0</td>\n",
       "      <td>0</td>\n",
       "      <td>0.0</td>\n",
       "      <td>-20.924178</td>\n",
       "      <td>0</td>\n",
       "      <td>0</td>\n",
       "      <td>0</td>\n",
       "      <td>no_crisis</td>\n",
       "    </tr>\n",
       "    <tr>\n",
       "      <th>6</th>\n",
       "      <td>1</td>\n",
       "      <td>DZA</td>\n",
       "      <td>Algeria</td>\n",
       "      <td>1876</td>\n",
       "      <td>0</td>\n",
       "      <td>0.051867</td>\n",
       "      <td>0</td>\n",
       "      <td>0</td>\n",
       "      <td>0.0</td>\n",
       "      <td>-1.769547</td>\n",
       "      <td>0</td>\n",
       "      <td>0</td>\n",
       "      <td>0</td>\n",
       "      <td>no_crisis</td>\n",
       "    </tr>\n",
       "    <tr>\n",
       "      <th>7</th>\n",
       "      <td>1</td>\n",
       "      <td>DZA</td>\n",
       "      <td>Algeria</td>\n",
       "      <td>1877</td>\n",
       "      <td>0</td>\n",
       "      <td>0.051867</td>\n",
       "      <td>0</td>\n",
       "      <td>0</td>\n",
       "      <td>0.0</td>\n",
       "      <td>29.116045</td>\n",
       "      <td>0</td>\n",
       "      <td>0</td>\n",
       "      <td>1</td>\n",
       "      <td>no_crisis</td>\n",
       "    </tr>\n",
       "    <tr>\n",
       "      <th>8</th>\n",
       "      <td>1</td>\n",
       "      <td>DZA</td>\n",
       "      <td>Algeria</td>\n",
       "      <td>1878</td>\n",
       "      <td>0</td>\n",
       "      <td>0.051948</td>\n",
       "      <td>0</td>\n",
       "      <td>0</td>\n",
       "      <td>0.0</td>\n",
       "      <td>-1.492537</td>\n",
       "      <td>0</td>\n",
       "      <td>0</td>\n",
       "      <td>0</td>\n",
       "      <td>no_crisis</td>\n",
       "    </tr>\n",
       "    <tr>\n",
       "      <th>9</th>\n",
       "      <td>1</td>\n",
       "      <td>DZA</td>\n",
       "      <td>Algeria</td>\n",
       "      <td>1879</td>\n",
       "      <td>0</td>\n",
       "      <td>0.052029</td>\n",
       "      <td>0</td>\n",
       "      <td>0</td>\n",
       "      <td>0.0</td>\n",
       "      <td>-16.831357</td>\n",
       "      <td>0</td>\n",
       "      <td>0</td>\n",
       "      <td>0</td>\n",
       "      <td>no_crisis</td>\n",
       "    </tr>\n",
       "  </tbody>\n",
       "</table>\n",
       "</div>"
      ],
      "text/plain": [
       "   case  cc3  country  year  systemic_crisis  exch_usd  \\\n",
       "0     1  DZA  Algeria  1870                1  0.052264   \n",
       "1     1  DZA  Algeria  1871                0  0.052798   \n",
       "2     1  DZA  Algeria  1872                0  0.052274   \n",
       "3     1  DZA  Algeria  1873                0  0.051680   \n",
       "4     1  DZA  Algeria  1874                0  0.051308   \n",
       "5     1  DZA  Algeria  1875                0  0.051546   \n",
       "6     1  DZA  Algeria  1876                0  0.051867   \n",
       "7     1  DZA  Algeria  1877                0  0.051867   \n",
       "8     1  DZA  Algeria  1878                0  0.051948   \n",
       "9     1  DZA  Algeria  1879                0  0.052029   \n",
       "\n",
       "   domestic_debt_in_default  sovereign_external_debt_default  \\\n",
       "0                         0                                0   \n",
       "1                         0                                0   \n",
       "2                         0                                0   \n",
       "3                         0                                0   \n",
       "4                         0                                0   \n",
       "5                         0                                0   \n",
       "6                         0                                0   \n",
       "7                         0                                0   \n",
       "8                         0                                0   \n",
       "9                         0                                0   \n",
       "\n",
       "   gdp_weighted_default  inflation_annual_cpi  independence  currency_crises  \\\n",
       "0                   0.0              3.441456             0                0   \n",
       "1                   0.0             14.149140             0                0   \n",
       "2                   0.0             -3.718593             0                0   \n",
       "3                   0.0             11.203897             0                0   \n",
       "4                   0.0             -3.848561             0                0   \n",
       "5                   0.0            -20.924178             0                0   \n",
       "6                   0.0             -1.769547             0                0   \n",
       "7                   0.0             29.116045             0                0   \n",
       "8                   0.0             -1.492537             0                0   \n",
       "9                   0.0            -16.831357             0                0   \n",
       "\n",
       "   inflation_crises banking_crisis  \n",
       "0                 0         crisis  \n",
       "1                 0      no_crisis  \n",
       "2                 0      no_crisis  \n",
       "3                 0      no_crisis  \n",
       "4                 0      no_crisis  \n",
       "5                 0      no_crisis  \n",
       "6                 0      no_crisis  \n",
       "7                 1      no_crisis  \n",
       "8                 0      no_crisis  \n",
       "9                 0      no_crisis  "
      ]
     },
     "execution_count": 3,
     "metadata": {},
     "output_type": "execute_result"
    }
   ],
   "source": [
    "df.head(10)"
   ]
  },
  {
   "cell_type": "code",
   "execution_count": 4,
   "id": "f5859413",
   "metadata": {
    "execution": {
     "iopub.execute_input": "2024-06-26T20:15:34.111354Z",
     "iopub.status.busy": "2024-06-26T20:15:34.110970Z",
     "iopub.status.idle": "2024-06-26T20:15:34.157632Z",
     "shell.execute_reply": "2024-06-26T20:15:34.156584Z"
    },
    "papermill": {
     "duration": 0.056095,
     "end_time": "2024-06-26T20:15:34.160378",
     "exception": false,
     "start_time": "2024-06-26T20:15:34.104283",
     "status": "completed"
    },
    "tags": []
   },
   "outputs": [
    {
     "name": "stdout",
     "output_type": "stream",
     "text": [
      "Description of the dataset:\n"
     ]
    },
    {
     "data": {
      "text/html": [
       "<div>\n",
       "<style scoped>\n",
       "    .dataframe tbody tr th:only-of-type {\n",
       "        vertical-align: middle;\n",
       "    }\n",
       "\n",
       "    .dataframe tbody tr th {\n",
       "        vertical-align: top;\n",
       "    }\n",
       "\n",
       "    .dataframe thead th {\n",
       "        text-align: right;\n",
       "    }\n",
       "</style>\n",
       "<table border=\"1\" class=\"dataframe\">\n",
       "  <thead>\n",
       "    <tr style=\"text-align: right;\">\n",
       "      <th></th>\n",
       "      <th>case</th>\n",
       "      <th>year</th>\n",
       "      <th>systemic_crisis</th>\n",
       "      <th>exch_usd</th>\n",
       "      <th>domestic_debt_in_default</th>\n",
       "      <th>sovereign_external_debt_default</th>\n",
       "      <th>gdp_weighted_default</th>\n",
       "      <th>inflation_annual_cpi</th>\n",
       "      <th>independence</th>\n",
       "      <th>currency_crises</th>\n",
       "      <th>inflation_crises</th>\n",
       "    </tr>\n",
       "  </thead>\n",
       "  <tbody>\n",
       "    <tr>\n",
       "      <th>count</th>\n",
       "      <td>1059.000000</td>\n",
       "      <td>1059.000000</td>\n",
       "      <td>1059.000000</td>\n",
       "      <td>1059.000000</td>\n",
       "      <td>1059.000000</td>\n",
       "      <td>1059.000000</td>\n",
       "      <td>1059.000000</td>\n",
       "      <td>1.059000e+03</td>\n",
       "      <td>1059.000000</td>\n",
       "      <td>1059.000000</td>\n",
       "      <td>1059.000000</td>\n",
       "    </tr>\n",
       "    <tr>\n",
       "      <th>mean</th>\n",
       "      <td>35.613787</td>\n",
       "      <td>1967.767705</td>\n",
       "      <td>0.077432</td>\n",
       "      <td>43.140831</td>\n",
       "      <td>0.039660</td>\n",
       "      <td>0.152975</td>\n",
       "      <td>0.006402</td>\n",
       "      <td>2.084889e+04</td>\n",
       "      <td>0.776204</td>\n",
       "      <td>0.132200</td>\n",
       "      <td>0.129367</td>\n",
       "    </tr>\n",
       "    <tr>\n",
       "      <th>std</th>\n",
       "      <td>23.692402</td>\n",
       "      <td>33.530632</td>\n",
       "      <td>0.267401</td>\n",
       "      <td>111.475380</td>\n",
       "      <td>0.195251</td>\n",
       "      <td>0.360133</td>\n",
       "      <td>0.043572</td>\n",
       "      <td>6.757274e+05</td>\n",
       "      <td>0.416984</td>\n",
       "      <td>0.349847</td>\n",
       "      <td>0.335765</td>\n",
       "    </tr>\n",
       "    <tr>\n",
       "      <th>min</th>\n",
       "      <td>1.000000</td>\n",
       "      <td>1860.000000</td>\n",
       "      <td>0.000000</td>\n",
       "      <td>0.000000</td>\n",
       "      <td>0.000000</td>\n",
       "      <td>0.000000</td>\n",
       "      <td>0.000000</td>\n",
       "      <td>-2.850214e+01</td>\n",
       "      <td>0.000000</td>\n",
       "      <td>0.000000</td>\n",
       "      <td>0.000000</td>\n",
       "    </tr>\n",
       "    <tr>\n",
       "      <th>25%</th>\n",
       "      <td>15.000000</td>\n",
       "      <td>1951.000000</td>\n",
       "      <td>0.000000</td>\n",
       "      <td>0.195350</td>\n",
       "      <td>0.000000</td>\n",
       "      <td>0.000000</td>\n",
       "      <td>0.000000</td>\n",
       "      <td>2.086162e+00</td>\n",
       "      <td>1.000000</td>\n",
       "      <td>0.000000</td>\n",
       "      <td>0.000000</td>\n",
       "    </tr>\n",
       "    <tr>\n",
       "      <th>50%</th>\n",
       "      <td>38.000000</td>\n",
       "      <td>1973.000000</td>\n",
       "      <td>0.000000</td>\n",
       "      <td>0.868400</td>\n",
       "      <td>0.000000</td>\n",
       "      <td>0.000000</td>\n",
       "      <td>0.000000</td>\n",
       "      <td>5.762330e+00</td>\n",
       "      <td>1.000000</td>\n",
       "      <td>0.000000</td>\n",
       "      <td>0.000000</td>\n",
       "    </tr>\n",
       "    <tr>\n",
       "      <th>75%</th>\n",
       "      <td>56.000000</td>\n",
       "      <td>1994.000000</td>\n",
       "      <td>0.000000</td>\n",
       "      <td>8.462750</td>\n",
       "      <td>0.000000</td>\n",
       "      <td>0.000000</td>\n",
       "      <td>0.000000</td>\n",
       "      <td>1.164405e+01</td>\n",
       "      <td>1.000000</td>\n",
       "      <td>0.000000</td>\n",
       "      <td>0.000000</td>\n",
       "    </tr>\n",
       "    <tr>\n",
       "      <th>max</th>\n",
       "      <td>70.000000</td>\n",
       "      <td>2014.000000</td>\n",
       "      <td>1.000000</td>\n",
       "      <td>744.306139</td>\n",
       "      <td>1.000000</td>\n",
       "      <td>1.000000</td>\n",
       "      <td>0.400000</td>\n",
       "      <td>2.198970e+07</td>\n",
       "      <td>1.000000</td>\n",
       "      <td>2.000000</td>\n",
       "      <td>1.000000</td>\n",
       "    </tr>\n",
       "  </tbody>\n",
       "</table>\n",
       "</div>"
      ],
      "text/plain": [
       "              case         year  systemic_crisis     exch_usd  \\\n",
       "count  1059.000000  1059.000000      1059.000000  1059.000000   \n",
       "mean     35.613787  1967.767705         0.077432    43.140831   \n",
       "std      23.692402    33.530632         0.267401   111.475380   \n",
       "min       1.000000  1860.000000         0.000000     0.000000   \n",
       "25%      15.000000  1951.000000         0.000000     0.195350   \n",
       "50%      38.000000  1973.000000         0.000000     0.868400   \n",
       "75%      56.000000  1994.000000         0.000000     8.462750   \n",
       "max      70.000000  2014.000000         1.000000   744.306139   \n",
       "\n",
       "       domestic_debt_in_default  sovereign_external_debt_default  \\\n",
       "count               1059.000000                      1059.000000   \n",
       "mean                   0.039660                         0.152975   \n",
       "std                    0.195251                         0.360133   \n",
       "min                    0.000000                         0.000000   \n",
       "25%                    0.000000                         0.000000   \n",
       "50%                    0.000000                         0.000000   \n",
       "75%                    0.000000                         0.000000   \n",
       "max                    1.000000                         1.000000   \n",
       "\n",
       "       gdp_weighted_default  inflation_annual_cpi  independence  \\\n",
       "count           1059.000000          1.059000e+03   1059.000000   \n",
       "mean               0.006402          2.084889e+04      0.776204   \n",
       "std                0.043572          6.757274e+05      0.416984   \n",
       "min                0.000000         -2.850214e+01      0.000000   \n",
       "25%                0.000000          2.086162e+00      1.000000   \n",
       "50%                0.000000          5.762330e+00      1.000000   \n",
       "75%                0.000000          1.164405e+01      1.000000   \n",
       "max                0.400000          2.198970e+07      1.000000   \n",
       "\n",
       "       currency_crises  inflation_crises  \n",
       "count      1059.000000       1059.000000  \n",
       "mean          0.132200          0.129367  \n",
       "std           0.349847          0.335765  \n",
       "min           0.000000          0.000000  \n",
       "25%           0.000000          0.000000  \n",
       "50%           0.000000          0.000000  \n",
       "75%           0.000000          0.000000  \n",
       "max           2.000000          1.000000  "
      ]
     },
     "execution_count": 4,
     "metadata": {},
     "output_type": "execute_result"
    }
   ],
   "source": [
    "print(\"Description of the dataset:\")\n",
    "df.describe()"
   ]
  },
  {
   "cell_type": "code",
   "execution_count": 5,
   "id": "a99cf744",
   "metadata": {
    "execution": {
     "iopub.execute_input": "2024-06-26T20:15:34.173759Z",
     "iopub.status.busy": "2024-06-26T20:15:34.173343Z",
     "iopub.status.idle": "2024-06-26T20:15:34.200864Z",
     "shell.execute_reply": "2024-06-26T20:15:34.199240Z"
    },
    "papermill": {
     "duration": 0.037297,
     "end_time": "2024-06-26T20:15:34.203440",
     "exception": false,
     "start_time": "2024-06-26T20:15:34.166143",
     "status": "completed"
    },
    "tags": []
   },
   "outputs": [
    {
     "name": "stdout",
     "output_type": "stream",
     "text": [
      "General information of the dataset:\n",
      "<class 'pandas.core.frame.DataFrame'>\n",
      "RangeIndex: 1059 entries, 0 to 1058\n",
      "Data columns (total 14 columns):\n",
      " #   Column                           Non-Null Count  Dtype  \n",
      "---  ------                           --------------  -----  \n",
      " 0   case                             1059 non-null   int64  \n",
      " 1   cc3                              1059 non-null   object \n",
      " 2   country                          1059 non-null   object \n",
      " 3   year                             1059 non-null   int64  \n",
      " 4   systemic_crisis                  1059 non-null   int64  \n",
      " 5   exch_usd                         1059 non-null   float64\n",
      " 6   domestic_debt_in_default         1059 non-null   int64  \n",
      " 7   sovereign_external_debt_default  1059 non-null   int64  \n",
      " 8   gdp_weighted_default             1059 non-null   float64\n",
      " 9   inflation_annual_cpi             1059 non-null   float64\n",
      " 10  independence                     1059 non-null   int64  \n",
      " 11  currency_crises                  1059 non-null   int64  \n",
      " 12  inflation_crises                 1059 non-null   int64  \n",
      " 13  banking_crisis                   1059 non-null   object \n",
      "dtypes: float64(3), int64(8), object(3)\n",
      "memory usage: 116.0+ KB\n",
      "None\n"
     ]
    }
   ],
   "source": [
    "print(\"General information of the dataset:\")\n",
    "print(df.info())"
   ]
  },
  {
   "cell_type": "code",
   "execution_count": 6,
   "id": "868d57a9",
   "metadata": {
    "execution": {
     "iopub.execute_input": "2024-06-26T20:15:34.217896Z",
     "iopub.status.busy": "2024-06-26T20:15:34.217477Z",
     "iopub.status.idle": "2024-06-26T20:15:34.227951Z",
     "shell.execute_reply": "2024-06-26T20:15:34.226025Z"
    },
    "papermill": {
     "duration": 0.021194,
     "end_time": "2024-06-26T20:15:34.230695",
     "exception": false,
     "start_time": "2024-06-26T20:15:34.209501",
     "status": "completed"
    },
    "tags": []
   },
   "outputs": [
    {
     "name": "stdout",
     "output_type": "stream",
     "text": [
      "The columns in the data:\n"
     ]
    },
    {
     "data": {
      "text/plain": [
       "Index(['case', 'cc3', 'country', 'year', 'systemic_crisis', 'exch_usd',\n",
       "       'domestic_debt_in_default', 'sovereign_external_debt_default',\n",
       "       'gdp_weighted_default', 'inflation_annual_cpi', 'independence',\n",
       "       'currency_crises', 'inflation_crises', 'banking_crisis'],\n",
       "      dtype='object')"
      ]
     },
     "execution_count": 6,
     "metadata": {},
     "output_type": "execute_result"
    }
   ],
   "source": [
    "print(\"The columns in the data:\")\n",
    "df.columns"
   ]
  },
  {
   "cell_type": "code",
   "execution_count": 7,
   "id": "658fccb3",
   "metadata": {
    "execution": {
     "iopub.execute_input": "2024-06-26T20:15:34.244930Z",
     "iopub.status.busy": "2024-06-26T20:15:34.244530Z",
     "iopub.status.idle": "2024-06-26T20:15:34.255219Z",
     "shell.execute_reply": "2024-06-26T20:15:34.254010Z"
    },
    "papermill": {
     "duration": 0.022661,
     "end_time": "2024-06-26T20:15:34.259630",
     "exception": false,
     "start_time": "2024-06-26T20:15:34.236969",
     "status": "completed"
    },
    "tags": []
   },
   "outputs": [
    {
     "name": "stdout",
     "output_type": "stream",
     "text": [
      "Missing values in each column:\n"
     ]
    },
    {
     "data": {
      "text/plain": [
       "case                               0\n",
       "cc3                                0\n",
       "country                            0\n",
       "year                               0\n",
       "systemic_crisis                    0\n",
       "exch_usd                           0\n",
       "domestic_debt_in_default           0\n",
       "sovereign_external_debt_default    0\n",
       "gdp_weighted_default               0\n",
       "inflation_annual_cpi               0\n",
       "independence                       0\n",
       "currency_crises                    0\n",
       "inflation_crises                   0\n",
       "banking_crisis                     0\n",
       "dtype: int64"
      ]
     },
     "execution_count": 7,
     "metadata": {},
     "output_type": "execute_result"
    }
   ],
   "source": [
    "print(\"Missing values in each column:\")\n",
    "df.isnull().sum()"
   ]
  },
  {
   "cell_type": "code",
   "execution_count": 8,
   "id": "09eaf748",
   "metadata": {
    "execution": {
     "iopub.execute_input": "2024-06-26T20:15:34.274630Z",
     "iopub.status.busy": "2024-06-26T20:15:34.274170Z",
     "iopub.status.idle": "2024-06-26T20:15:34.285927Z",
     "shell.execute_reply": "2024-06-26T20:15:34.284448Z"
    },
    "papermill": {
     "duration": 0.022764,
     "end_time": "2024-06-26T20:15:34.288774",
     "exception": false,
     "start_time": "2024-06-26T20:15:34.266010",
     "status": "completed"
    },
    "tags": []
   },
   "outputs": [
    {
     "name": "stdout",
     "output_type": "stream",
     "text": [
      "Data types of each column:\n"
     ]
    },
    {
     "data": {
      "text/plain": [
       "case                                 int64\n",
       "cc3                                 object\n",
       "country                             object\n",
       "year                                 int64\n",
       "systemic_crisis                      int64\n",
       "exch_usd                           float64\n",
       "domestic_debt_in_default             int64\n",
       "sovereign_external_debt_default      int64\n",
       "gdp_weighted_default               float64\n",
       "inflation_annual_cpi               float64\n",
       "independence                         int64\n",
       "currency_crises                      int64\n",
       "inflation_crises                     int64\n",
       "banking_crisis                      object\n",
       "dtype: object"
      ]
     },
     "execution_count": 8,
     "metadata": {},
     "output_type": "execute_result"
    }
   ],
   "source": [
    "print(\"Data types of each column:\")\n",
    "df.dtypes"
   ]
  },
  {
   "cell_type": "code",
   "execution_count": 9,
   "id": "57fe30ca",
   "metadata": {
    "execution": {
     "iopub.execute_input": "2024-06-26T20:15:34.303986Z",
     "iopub.status.busy": "2024-06-26T20:15:34.303571Z",
     "iopub.status.idle": "2024-06-26T20:15:34.313101Z",
     "shell.execute_reply": "2024-06-26T20:15:34.311864Z"
    },
    "papermill": {
     "duration": 0.020083,
     "end_time": "2024-06-26T20:15:34.315617",
     "exception": false,
     "start_time": "2024-06-26T20:15:34.295534",
     "status": "completed"
    },
    "tags": []
   },
   "outputs": [
    {
     "data": {
      "text/plain": [
       "country\n",
       "Egypt                       155\n",
       "South Africa                114\n",
       "Zimbabwe                     90\n",
       "Algeria                      85\n",
       "Angola                       77\n",
       "Morocco                      75\n",
       "Tunisia                      75\n",
       "Zambia                       72\n",
       "Mauritius                    68\n",
       "Kenya                        67\n",
       "Ivory Coast                  63\n",
       "Nigeria                      60\n",
       "Central African Republic     58\n",
       "Name: count, dtype: int64"
      ]
     },
     "execution_count": 9,
     "metadata": {},
     "output_type": "execute_result"
    }
   ],
   "source": [
    "df['country'].value_counts()"
   ]
  }
 ],
 "metadata": {
  "kaggle": {
   "accelerator": "none",
   "dataSources": [
    {
     "datasetId": 271144,
     "sourceId": 562549,
     "sourceType": "datasetVersion"
    }
   ],
   "dockerImageVersionId": 30715,
   "isGpuEnabled": false,
   "isInternetEnabled": true,
   "language": "python",
   "sourceType": "notebook"
  },
  "kernelspec": {
   "display_name": "Python 3",
   "language": "python",
   "name": "python3"
  },
  "language_info": {
   "codemirror_mode": {
    "name": "ipython",
    "version": 3
   },
   "file_extension": ".py",
   "mimetype": "text/x-python",
   "name": "python",
   "nbconvert_exporter": "python",
   "pygments_lexer": "ipython3",
   "version": "3.10.13"
  },
  "papermill": {
   "default_parameters": {},
   "duration": 6.670918,
   "end_time": "2024-06-26T20:15:34.944912",
   "environment_variables": {},
   "exception": null,
   "input_path": "__notebook__.ipynb",
   "output_path": "__notebook__.ipynb",
   "parameters": {},
   "start_time": "2024-06-26T20:15:28.273994",
   "version": "2.5.0"
  }
 },
 "nbformat": 4,
 "nbformat_minor": 5
}
